{
 "cells": [
  {
   "cell_type": "markdown",
   "metadata": {},
   "source": [
    "# UFV QC 02 Lab - Multiple Systems"
   ]
  },
  {
   "cell_type": "markdown",
   "metadata": {},
   "source": [
    "### Objective\n",
    "With this lab we want to get more fluent using Qiskit, and to study entanglement and gate identities.\n",
    "\n",
    "We will see the following:\n",
    "\n",
    "1. Creating Circuits with multiple qubits\n",
    "2. The bell state, launching on simulator\n",
    "3. Circuit Identities\n",
    "4. Creating a C-Z\n",
    "5. Creating a Swap Gate\n",
    "6. Creating a Toffoli Gate"
   ]
  },
  {
   "cell_type": "markdown",
   "metadata": {},
   "source": [
    "## 1. Creating Circuits with multiple Qubits"
   ]
  },
  {
   "cell_type": "markdown",
   "metadata": {},
   "source": [
    "Let's start by now creating a circuit with 3 Qubits and 2 Bits"
   ]
  },
  {
   "cell_type": "code",
   "execution_count": null,
   "metadata": {},
   "outputs": [],
   "source": [
    "from qiskit import QuantumCircuit, ClassicalRegister, QuantumRegister\n",
    "\n",
    "qr = QuantumRegister(3, name=\"q\")    # Protocol uses 3 qubits\n",
    "cr = ClassicalRegister(2, name=\"c\") # and 2 classical bits\n",
    "\n",
    "qc = QuantumCircuit(qr, cr)"
   ]
  },
  {
   "cell_type": "code",
   "execution_count": null,
   "metadata": {},
   "outputs": [],
   "source": [
    "qc.draw('mpl')"
   ]
  },
  {
   "cell_type": "code",
   "execution_count": null,
   "metadata": {},
   "outputs": [],
   "source": [
    "from qiskit import quantum_info\n",
    "from qiskit.visualization import array_to_latex\n",
    "\n",
    "initial_state = quantum_info.Statevector.from_instruction(qc)\n",
    "array_to_latex(initial_state.data.reshape((-1,1)), prefix=\"|000\\\\rangle =\")"
   ]
  },
  {
   "cell_type": "markdown",
   "metadata": {},
   "source": [
    "We use the Dirac notation to name this vector as |000> meaning it is the State with all quibits at 100% probability to be measured 0.\n",
    "As we have 3 qubits, we have a statevector of 8 dimensions.\n",
    "We can think in this vector a a column with the probabilities of measuring 000, 001, 010,...,111\n",
    "\n",
    "\n",
    "Let's now create a superposition:"
   ]
  },
  {
   "cell_type": "code",
   "execution_count": null,
   "metadata": {},
   "outputs": [],
   "source": [
    "qc.h(0) # Put qubit a into state |+>"
   ]
  },
  {
   "cell_type": "code",
   "execution_count": null,
   "metadata": {},
   "outputs": [],
   "source": [
    "qc.draw('mpl')"
   ]
  },
  {
   "cell_type": "code",
   "execution_count": null,
   "metadata": {},
   "outputs": [],
   "source": [
    "psi = quantum_info.Statevector.from_instruction(qc)\n",
    "array_to_latex(psi.data.reshape((-1,1)), prefix=\"|\\\\psi\\\\rangle =\")"
   ]
  },
  {
   "cell_type": "markdown",
   "metadata": {},
   "source": [
    "This is a superposition state.\n",
    "After the H gate, the qubit q0 has 50% probability of being measured 0 and 50% of being measured 1.\n",
    "\n",
    "As you can see, the probabilities are the square of the coeficients in the Statevector.\n",
    "The sum of all probabilities is always 1, so the module of this Statevector must be 1.\n",
    "\n",
    "We can show it with a Bloch Sphere"
   ]
  },
  {
   "cell_type": "code",
   "execution_count": null,
   "metadata": {},
   "outputs": [],
   "source": [
    "from qiskit.visualization import plot_bloch_multivector\n",
    "plot_bloch_multivector(psi)"
   ]
  },
  {
   "cell_type": "markdown",
   "metadata": {},
   "source": [
    "## 2. Bell State"
   ]
  },
  {
   "cell_type": "markdown",
   "metadata": {},
   "source": [
    "In the class we saw the Bell State, as the state that generates the Maximally entangled states.\n",
    "\n",
    "In order to get to it, we just have to apply a C-NOT using the superposition as the control qubit"
   ]
  },
  {
   "cell_type": "code",
   "execution_count": null,
   "metadata": {},
   "outputs": [],
   "source": [
    "### Apply a C-NOT gate and then measure the qubits\n",
    "### Your code here\n",
    "\n",
    "\n",
    "###\n",
    "qc.draw('mpl')"
   ]
  },
  {
   "cell_type": "code",
   "execution_count": null,
   "metadata": {},
   "outputs": [],
   "source": [
    "psi = quantum_info.Statevector.from_instruction(qc)\n",
    "array_to_latex(psi.data.reshape((-1,1)), prefix=\"|\\\\psi\\\\rangle =\")"
   ]
  },
  {
   "cell_type": "markdown",
   "metadata": {},
   "source": [
    "Now we have 50% of measuring 000 and 50% of measuring 011.\n",
    "\n",
    "This result cannot be achieved with two independent aleatory variables."
   ]
  },
  {
   "cell_type": "markdown",
   "metadata": {},
   "source": [
    "The question is: Can we use the bloch spheres to represent our Qubits now?"
   ]
  },
  {
   "cell_type": "code",
   "execution_count": null,
   "metadata": {},
   "outputs": [],
   "source": [
    "plot_bloch_multivector(psi)"
   ]
  },
  {
   "cell_type": "markdown",
   "metadata": {},
   "source": [
    "Lets launch this circuit in a simulator to see what happens, but first, we must add measurements."
   ]
  },
  {
   "cell_type": "code",
   "execution_count": null,
   "metadata": {},
   "outputs": [],
   "source": [
    "# As always the first step is to import the required libraries\n",
    "# from qiskit_ibm_runtime import QiskitRuntimeService, Sampler, Batch\n",
    "from qiskit_ibm_runtime import QiskitRuntimeService, Sampler, Session"
   ]
  },
  {
   "cell_type": "code",
   "execution_count": null,
   "metadata": {},
   "outputs": [],
   "source": [
    "# Then we must initialize the Qiskit Runtime Service\n",
    "\n",
    "## If we are using the IBM Quantum Lab we can just do the following:\n",
    "service = QiskitRuntimeService()"
   ]
  },
  {
   "cell_type": "code",
   "execution_count": null,
   "metadata": {},
   "outputs": [],
   "source": [
    "# In order to execute a job, we need to select a backend [https://quantum.ibm.com/services/resources]\n",
    "## We can choose a real quantum computer \n",
    "# backend_real = service.backend(\"ibm_brisbane\")\n",
    "\n",
    "## Or a simulator. In this case we will run the circuit in a simulator:\n",
    "backend_simulator = service.get_backend('ibmq_qasm_simulator')"
   ]
  },
  {
   "cell_type": "code",
   "execution_count": null,
   "metadata": {},
   "outputs": [],
   "source": [
    "# We can now execute our program using a Sampler Primitive\n",
    "\n",
    "with Session(service=service, backend=backend_simulator) as session:\n",
    "    sampler = Sampler(session=session)\n",
    "    job = sampler.run(circuits=qc)\n",
    "    print(job.result())"
   ]
  },
  {
   "cell_type": "code",
   "execution_count": null,
   "metadata": {},
   "outputs": [],
   "source": [
    "from qiskit.visualization import plot_histogram\n",
    "\n",
    "plot_histogram(job.result().quasi_dists[0])"
   ]
  },
  {
   "cell_type": "markdown",
   "metadata": {
    "tags": [
     "remove_cell"
    ]
   },
   "source": [
    "## 3. Circuit Identities"
   ]
  },
  {
   "cell_type": "markdown",
   "metadata": {},
   "source": [
    "### 3.1 Making a Controlled-Z from a CNOT\n",
    "\n",
    "The controlled-Z or `cz` gate is another well-used two-qubit gate. Just as the CNOT applies an $X$ to its target qubit whenever its control is in state $|1\\rangle$, the controlled-$Z$ applies a $Z$ in the same case. In Qiskit it can be invoked directly with"
   ]
  },
  {
   "cell_type": "code",
   "execution_count": null,
   "metadata": {},
   "outputs": [],
   "source": [
    "from math import pi\n",
    "\n",
    "# Lets first create our circuit\n",
    "c_q = QuantumRegister(1, \"Control\")\n",
    "t_q = QuantumRegister(1, \"Target\")\n",
    "\n",
    "qc = QuantumCircuit(c_q, t_q)"
   ]
  },
  {
   "cell_type": "code",
   "execution_count": null,
   "metadata": {
    "tags": []
   },
   "outputs": [],
   "source": [
    "# a controlled-Z\n",
    "qc.cz(c_q,t_q)\n",
    "qc.draw('mpl')"
   ]
  },
  {
   "cell_type": "markdown",
   "metadata": {},
   "source": [
    "where c and t are the control and target qubits. In IBM Q devices, however, the only kind of two-qubit gate that can be directly applied is the CNOT. We therefore need a way to transform one to the other.\n",
    "\n",
    "The process for this is quite simple. We know that the Hadamard transforms the states $|0\\rangle$ and $|1\\rangle$ to the states $|+\\rangle$ and $|-\\rangle$ respectively. We also know that the effect of the $Z$ gate on the states $|+\\rangle$ and $|-\\rangle$ is the same as that for $X$ on the state $|0\\rangle$ and $|1\\rangle$. From this reasoning, or from simply multiplying matrices, we find that\n",
    "\n",
    "$$\n",
    "H X H = Z,\\\\\\\\\n",
    "H Z H = X.\n",
    "$$\n",
    "\n",
    "The same trick can be used to transform a CNOT into a controlled-$Z$. All we need to do is precede and follow the CNOT with a Hadamard on the target qubit. This will transform any $X$ applied to that qubit into a $Z$."
   ]
  },
  {
   "cell_type": "code",
   "execution_count": null,
   "metadata": {},
   "outputs": [],
   "source": [
    "# Lets start again\n",
    "control_qubit = QuantumRegister(1, \"Control\")\n",
    "target_qubit = QuantumRegister(1, \"Target\")\n",
    "\n",
    "qc = QuantumCircuit(control_qubit, target_qubit)"
   ]
  },
  {
   "cell_type": "code",
   "execution_count": null,
   "metadata": {
    "tags": []
   },
   "outputs": [],
   "source": [
    "### Create a C-Z using the previously specified gates\n",
    "\n",
    "\n",
    "\n",
    "###\n",
    "qc.draw('mpl')"
   ]
  },
  {
   "cell_type": "markdown",
   "metadata": {},
   "source": [
    "We can generalize this to create a controlled Y for example with the gates S_dagger and S"
   ]
  },
  {
   "cell_type": "code",
   "execution_count": null,
   "metadata": {
    "tags": []
   },
   "outputs": [],
   "source": [
    "control_qubit = QuantumRegister(1, \"Control\")\n",
    "target_qubit = QuantumRegister(1, \"Target\")\n",
    "\n",
    "qc = QuantumCircuit(control_qubit, target_qubit)\n",
    "\n",
    "qc.sdg(target_qubit)\n",
    "qc.cx(control_qubit,target_qubit)\n",
    "qc.s(target_qubit)\n",
    "qc.draw('mpl')"
   ]
  },
  {
   "cell_type": "markdown",
   "metadata": {},
   "source": [
    "Or creating a controlled-$H$:"
   ]
  },
  {
   "cell_type": "code",
   "execution_count": null,
   "metadata": {
    "tags": []
   },
   "outputs": [],
   "source": [
    "control_qubit = QuantumRegister(1, \"Control\")\n",
    "target_qubit = QuantumRegister(1, \"Target\")\n",
    "\n",
    "qc = QuantumCircuit(control_qubit, target_qubit)\n",
    "\n",
    "qc.ry(pi/4,target_qubit)\n",
    "qc.cx(control_qubit,target_qubit)\n",
    "qc.ry(-pi/4,target_qubit)\n",
    "qc.draw('mpl')"
   ]
  },
  {
   "cell_type": "markdown",
   "metadata": {},
   "source": [
    "## 3.2 Swap Gate"
   ]
  },
  {
   "cell_type": "markdown",
   "metadata": {},
   "source": [
    "Sometimes we need to move information around in a quantum computer. For some qubit implementations, this could be done by physically moving them. Another option is simply to move the state between two qubits. This is done by the SWAP gate."
   ]
  },
  {
   "cell_type": "code",
   "execution_count": null,
   "metadata": {
    "tags": []
   },
   "outputs": [],
   "source": [
    "qubit_A = QuantumRegister(1, \"A\")\n",
    "qubit_B = QuantumRegister(1, \"B\")\n",
    "\n",
    "qc = QuantumCircuit(qubit_A, qubit_B)\n",
    "\n",
    "# swaps states of qubits a and b\n",
    "qc.swap(qubit_A,qubit_B)\n",
    "qc.draw('mpl')"
   ]
  },
  {
   "cell_type": "markdown",
   "metadata": {},
   "source": [
    "The command above directly invokes this gate, but let's see how we might make it using our standard gate set. For this, we'll need to consider a few examples.\n",
    "\n",
    "First, we'll look at the case that qubit A is in state $|1\\rangle$ and qubit B is in state $|0\\rangle$. For this we'll apply the following gates:"
   ]
  },
  {
   "cell_type": "code",
   "execution_count": null,
   "metadata": {
    "tags": []
   },
   "outputs": [],
   "source": [
    "qubit_A = QuantumRegister(1, \"A\")\n",
    "qubit_B = QuantumRegister(1, \"B\")\n",
    "\n",
    "qc = QuantumCircuit(qubit_A, qubit_B)\n",
    "\n",
    "qc.cx(qubit_A,qubit_B) # copies 1 from a to b\n",
    "qc.cx(qubit_B,qubit_A) # uses the 1 on b to rotate the state of a to 0\n",
    "qc.draw('mpl')"
   ]
  },
  {
   "cell_type": "markdown",
   "metadata": {},
   "source": [
    "This has the effect of putting qubit b in state $|1\\rangle$ and qubit a in state $|0\\rangle$. In this case at least, we have done a SWAP.\n",
    "\n",
    "Now let's take this state and SWAP back to the original one. As you may have guessed, we can do this with the reverse of the above process:"
   ]
  },
  {
   "cell_type": "code",
   "execution_count": null,
   "metadata": {
    "tags": []
   },
   "outputs": [],
   "source": [
    "# swap a q from b to a\n",
    "qc.cx(qubit_A,qubit_B) # copies 1 from b to a\n",
    "qc.cx(qubit_B,qubit_A) # uses the 1 on a to rotate the state of b to 0\n",
    "qc.draw('mpl')"
   ]
  },
  {
   "cell_type": "markdown",
   "metadata": {},
   "source": [
    "Note that in these two processes, the first gate of one would have no effect on the initial state of the other. For example, when we swap the $|1\\rangle$ b to a, the first gate is `cx(b,a)`. If this were instead applied to a state where no $|1\\rangle$ was initially on b, it would have no effect.\n",
    "\n",
    "Note also that for these two processes, the final gate of one would have no effect on the final state of the other. For example, the final `cx(b,a)` that is required when we swap the $|1\\rangle$ from a to b has no effect on the state where the $|1\\rangle$ is not on b.\n",
    "\n",
    "With these observations, we can combine the two processes by adding an ineffective gate from one onto the other. For example,"
   ]
  },
  {
   "cell_type": "code",
   "execution_count": null,
   "metadata": {
    "tags": []
   },
   "outputs": [],
   "source": [
    "qubit_A = QuantumRegister(1, \"A\")\n",
    "qubit_B = QuantumRegister(1, \"B\")\n",
    "\n",
    "qc = QuantumCircuit(qubit_A, qubit_B)\n",
    "\n",
    "qc.cx(qubit_B,qubit_A)\n",
    "qc.cx(qubit_A,qubit_B)\n",
    "qc.cx(qubit_B,qubit_A)\n",
    "qc.draw('mpl')"
   ]
  },
  {
   "cell_type": "markdown",
   "metadata": {},
   "source": [
    "We can think of this as a process that swaps a $|1\\rangle$ from a to b, but with a useless `qc.cx(b,a)` at the beginning. We can also think of it as a process that swaps a $|1\\rangle$ from b to a, but with a useless `qc.cx(b,a)` at the end. Either way, the result is a process that can do the swap both ways around.\n",
    "\n",
    "It also has the correct effect on the $|00\\rangle$ state. This is symmetric, and so swapping the states should have no effect. Since the CNOT gates have no effect when their control qubits are $|0\\rangle$, the process correctly does nothing.\n",
    "\n",
    "The $|11\\rangle$ state is also symmetric, and so needs a trivial effect from the swap. In this case, the first CNOT gate in the process above will cause the second to have no effect, and the third undoes the first. Therefore, the whole effect is indeed trivial.\n",
    "\n",
    "We have thus found a way to decompose SWAP gates into our standard gate set of single-qubit rotations and CNOT gates."
   ]
  },
  {
   "cell_type": "code",
   "execution_count": null,
   "metadata": {
    "tags": []
   },
   "outputs": [],
   "source": [
    "qc = QuantumCircuit(2)\n",
    "# swaps states of qubits a and b\n",
    "qc.cx(b,a)\n",
    "qc.cx(a,b)\n",
    "qc.cx(b,a)\n",
    "qc.draw()"
   ]
  },
  {
   "cell_type": "markdown",
   "metadata": {},
   "source": [
    "# Homework\n",
    "\n",
    "## 3.3 Toffoli Gate\n",
    "\n",
    "The Toffoli gate is a three-qubit gate with two controls and one target. It performs an X on the target only if both controls are in the state $|1\\rangle$. The final state of the target is then equal to either the AND or the NAND of the two controls, depending on whether the initial state of the target was $|0\\rangle$ or $|1\\rangle$. A Toffoli can also be thought of as a controlled-controlled-NOT, and is also called the CCX gate."
   ]
  },
  {
   "cell_type": "code",
   "execution_count": null,
   "metadata": {
    "tags": []
   },
   "outputs": [],
   "source": [
    "qubit_C0 = QuantumRegister(1, \"Control 0\")\n",
    "qubit_C1 = QuantumRegister(1, \"Control 1\")\n",
    "qubit_target = QuantumRegister(1, \"Target\")\n",
    "\n",
    "qc = QuantumCircuit(qubit_C0, qubit_C1, qubit_target)\n",
    "\n",
    "# Toffoli with control qubits a and b and target t\n",
    "qc.ccx(qubit_C0, qubit_C1,qubit_target)\n",
    "qc.draw('mpl')"
   ]
  },
  {
   "attachments": {
    "091af840-bb32-4f6a-bdcf-8f1445f80115.png": {
     "image/png": "[encoded data removed]"
    }
   },
   "cell_type": "markdown",
   "metadata": {},
   "source": [
    "This is the identity of the Toffoli gate:\n",
    "\n",
    "![iden3.png](attachment:091af840-bb32-4f6a-bdcf-8f1445f80115.png)\n",
    "\n",
    "*This is a Toffoli with 3 qubits(q0,q1,q2) respectively. In this circuit example, q0 is connected with q2 but q0 is not connected with q1.\n",
    "\n",
    "Please, create a Qiskit Circuit that implements this gate (without using ccx)"
   ]
  },
  {
   "cell_type": "code",
   "execution_count": null,
   "metadata": {
    "tags": []
   },
   "outputs": [],
   "source": [
    "qubit_C0 = QuantumRegister(1, \"Control 0\")\n",
    "qubit_C1 = QuantumRegister(1, \"Control 1\")\n",
    "qubit_target = QuantumRegister(1, \"Target\")\n",
    "\n",
    "qc = QuantumCircuit(qubit_C0, qubit_C1, qubit_target)\n",
    "\n",
    "## Your code Here\n",
    "\n",
    "\n",
    "##\n",
    "\n",
    "qc.draw('mpl')"
   ]
  },
  {
   "cell_type": "code",
   "execution_count": null,
   "metadata": {},
   "outputs": [],
   "source": []
  }
 ],
 "metadata": {
  "kernelspec": {
   "display_name": "Python 3 (ipykernel)",
   "language": "python",
   "name": "python3"
  },
  "language_info": {
   "codemirror_mode": {
    "name": "ipython",
    "version": 3
   },
   "file_extension": ".py",
   "mimetype": "text/x-python",
   "name": "python",
   "nbconvert_exporter": "python",
   "pygments_lexer": "ipython3",
   "version": "3.11.7"
  },
  "widgets": {
   "application/vnd.jupyter.widget-state+json": {
    "state": {
     "020e00ccf12f4d7d89cf1cb0b8541042": {
      "model_module": "@jupyter-widgets/base",
      "model_module_version": "2.0.0",
      "model_name": "LayoutModel",
      "state": {
       "grid_template_areas": "\n                                       \". . . . right \"\n                                        ",
       "grid_template_columns": "20% 20% 20% 20% 20%",
       "width": "100%"
      }
     },
     "0bdb7165189f43f9aa44caeadb2096ec": {
      "model_module": "@jupyter-widgets/controls",
      "model_module_version": "2.0.0",
      "model_name": "HTMLStyleModel",
      "state": {
       "description_width": "",
       "font_size": null,
       "text_color": null
      }
     },
     "104ed68ff08f4c319e74e6f82cb87a70": {
      "model_module": "@jupyter-widgets/controls",
      "model_module_version": "2.0.0",
      "model_name": "HTMLStyleModel",
      "state": {
       "description_width": "",
       "font_size": null,
       "text_color": null
      }
     },
     "1de7f3a789fc4ae69a64588489cd950d": {
      "model_module": "@jupyter-widgets/controls",
      "model_module_version": "2.0.0",
      "model_name": "HTMLModel",
      "state": {
       "layout": "IPY_MODEL_d27b8ee64cf94d9b855287f699991371",
       "style": "IPY_MODEL_8d38513ebe954e0aa604dc0a08d2d7f5",
       "value": "<h5>Status</h5>"
      }
     },
     "21bacf4d8bf64ccb84ec7c27b94b5698": {
      "model_module": "@jupyter-widgets/base",
      "model_module_version": "2.0.0",
      "model_name": "LayoutModel",
      "state": {
       "margin": "0px 0px 0px 37px",
       "width": "600px"
      }
     },
     "4af977e5ba6e4a7c8193d88efbbbf125": {
      "model_module": "@jupyter-widgets/controls",
      "model_module_version": "2.0.0",
      "model_name": "HTMLStyleModel",
      "state": {
       "description_width": "",
       "font_size": null,
       "text_color": null
      }
     },
     "4c2e6fc7c6d94b58bb9e9f10d14501f0": {
      "model_module": "@jupyter-widgets/controls",
      "model_module_version": "2.0.0",
      "model_name": "HTMLModel",
      "state": {
       "layout": "IPY_MODEL_757dbf6aa0ff4bfcb7bf87130119908b",
       "style": "IPY_MODEL_f08e11ce39af4e219c2c43fb9a1a0247",
       "value": "<h5>Backend</h5>"
      }
     },
     "62b68303410f4fe1916843de2a1120d0": {
      "model_module": "@jupyter-widgets/controls",
      "model_module_version": "2.0.0",
      "model_name": "HBoxModel",
      "state": {
       "children": [
        "IPY_MODEL_9fb6703c27e346ce9feccbd785c25962",
        "IPY_MODEL_4c2e6fc7c6d94b58bb9e9f10d14501f0",
        "IPY_MODEL_1de7f3a789fc4ae69a64588489cd950d",
        "IPY_MODEL_cc29691cd4e64a12a25d6f20d8a09d11",
        "IPY_MODEL_81051f8fa59a4fe2bdfa6e4ca97ad5a7"
       ],
       "layout": "IPY_MODEL_21bacf4d8bf64ccb84ec7c27b94b5698"
      }
     },
     "757dbf6aa0ff4bfcb7bf87130119908b": {
      "model_module": "@jupyter-widgets/base",
      "model_module_version": "2.0.0",
      "model_name": "LayoutModel",
      "state": {
       "width": "145px"
      }
     },
     "81051f8fa59a4fe2bdfa6e4ca97ad5a7": {
      "model_module": "@jupyter-widgets/controls",
      "model_module_version": "2.0.0",
      "model_name": "HTMLModel",
      "state": {
       "layout": "IPY_MODEL_aece118b7f794036bc7cee7f94b47cba",
       "style": "IPY_MODEL_0bdb7165189f43f9aa44caeadb2096ec",
       "value": "<h5>Message</h5>"
      }
     },
     "8d38513ebe954e0aa604dc0a08d2d7f5": {
      "model_module": "@jupyter-widgets/controls",
      "model_module_version": "2.0.0",
      "model_name": "HTMLStyleModel",
      "state": {
       "description_width": "",
       "font_size": null,
       "text_color": null
      }
     },
     "9849bf7eb4a043bc8134950fdaa84b57": {
      "model_module": "@jupyter-widgets/base",
      "model_module_version": "2.0.0",
      "model_name": "LayoutModel",
      "state": {
       "width": "190px"
      }
     },
     "990f2da8bb154d2d8d3a779729a40b85": {
      "model_module": "@jupyter-widgets/controls",
      "model_module_version": "2.0.0",
      "model_name": "HTMLStyleModel",
      "state": {
       "description_width": "",
       "font_size": null,
       "text_color": null
      }
     },
     "9fb6703c27e346ce9feccbd785c25962": {
      "model_module": "@jupyter-widgets/controls",
      "model_module_version": "2.0.0",
      "model_name": "HTMLModel",
      "state": {
       "layout": "IPY_MODEL_9849bf7eb4a043bc8134950fdaa84b57",
       "style": "IPY_MODEL_990f2da8bb154d2d8d3a779729a40b85",
       "value": "<h5>Job ID</h5>"
      }
     },
     "a08d6cf407e44b8098cea9b3957db652": {
      "model_module": "@jupyter-widgets/base",
      "model_module_version": "2.0.0",
      "model_name": "LayoutModel",
      "state": {
       "margin": "0px 0px 10px 0px"
      }
     },
     "a802968eb5864005bedcb740cf1bd964": {
      "model_module": "@jupyter-widgets/base",
      "model_module_version": "2.0.0",
      "model_name": "LayoutModel",
      "state": {
       "width": "70px"
      }
     },
     "ae85cd56784c496d8d89dae8e92537c6": {
      "model_module": "@jupyter-widgets/controls",
      "model_module_version": "2.0.0",
      "model_name": "HTMLModel",
      "state": {
       "layout": "IPY_MODEL_a08d6cf407e44b8098cea9b3957db652",
       "style": "IPY_MODEL_4af977e5ba6e4a7c8193d88efbbbf125",
       "value": "<p style='font-family: IBM Plex Sans, Arial, Helvetica, sans-serif; font-size: 20px; font-weight: medium;'>Circuit Properties</p>"
      }
     },
     "aece118b7f794036bc7cee7f94b47cba": {
      "model_module": "@jupyter-widgets/base",
      "model_module_version": "2.0.0",
      "model_name": "LayoutModel",
      "state": {}
     },
     "be7bc18143ed4067b0519b2c5eed9571": {
      "model_module": "@jupyter-widgets/base",
      "model_module_version": "2.0.0",
      "model_name": "LayoutModel",
      "state": {
       "grid_area": "right",
       "padding": "0px 0px 0px 0px",
       "width": "70px"
      }
     },
     "cbe97e27d5a747499645ffe4e90c19cd": {
      "model_module": "@jupyter-widgets/controls",
      "model_module_version": "2.0.0",
      "model_name": "ButtonStyleModel",
      "state": {
       "font_family": null,
       "font_size": null,
       "font_style": null,
       "font_variant": null,
       "font_weight": null,
       "text_color": null,
       "text_decoration": null
      }
     },
     "cc29691cd4e64a12a25d6f20d8a09d11": {
      "model_module": "@jupyter-widgets/controls",
      "model_module_version": "2.0.0",
      "model_name": "HTMLModel",
      "state": {
       "layout": "IPY_MODEL_a802968eb5864005bedcb740cf1bd964",
       "style": "IPY_MODEL_104ed68ff08f4c319e74e6f82cb87a70",
       "value": "<h5>Queue</h5>"
      }
     },
     "d27b8ee64cf94d9b855287f699991371": {
      "model_module": "@jupyter-widgets/base",
      "model_module_version": "2.0.0",
      "model_name": "LayoutModel",
      "state": {
       "width": "95px"
      }
     },
     "d4f9f191e4d8418c8e30a3421a322de6": {
      "model_module": "@jupyter-widgets/controls",
      "model_module_version": "2.0.0",
      "model_name": "ButtonModel",
      "state": {
       "button_style": "primary",
       "description": "Clear",
       "layout": "IPY_MODEL_be7bc18143ed4067b0519b2c5eed9571",
       "style": "IPY_MODEL_cbe97e27d5a747499645ffe4e90c19cd",
       "tooltip": null
      }
     },
     "ea852244ca8a467fbfad2571aaa1a37d": {
      "model_module": "@jupyter-widgets/controls",
      "model_module_version": "2.0.0",
      "model_name": "GridBoxModel",
      "state": {
       "children": [
        "IPY_MODEL_d4f9f191e4d8418c8e30a3421a322de6"
       ],
       "layout": "IPY_MODEL_020e00ccf12f4d7d89cf1cb0b8541042"
      }
     },
     "f08e11ce39af4e219c2c43fb9a1a0247": {
      "model_module": "@jupyter-widgets/controls",
      "model_module_version": "2.0.0",
      "model_name": "HTMLStyleModel",
      "state": {
       "description_width": "",
       "font_size": null,
       "text_color": null
      }
     }
    },
    "version_major": 2,
    "version_minor": 0
   }
  }
 },
 "nbformat": 4,
 "nbformat_minor": 4
}
