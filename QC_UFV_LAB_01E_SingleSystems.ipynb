{
 "cells": [
  {
   "cell_type": "markdown",
   "metadata": {},
   "source": [
    "# UFV QC 01 Lab - Single Systems"
   ]
  },
  {
   "cell_type": "markdown",
   "metadata": {},
   "source": [
    "### Objective\n",
    "The objective of this lab is to be fluent using Qiskit for a Single Qubit.\n",
    "\n",
    "We will see the following:\n",
    "\n",
    "1. Optional - Math definition of a bloch sphere\n",
    "2. Using the bloch sphere for visualization\n",
    "3. Pauli Gates\n",
    "4. The Hadamard Gate\n",
    "5. The Phase Gate"
   ]
  },
  {
   "cell_type": "markdown",
   "metadata": {},
   "source": [
    "# 0. Optional - Math definition of a bloch sphere"
   ]
  },
  {
   "cell_type": "markdown",
   "metadata": {},
   "source": [
    "\n",
    "## The Rules of Measurement <a id=\"rules-measurement\"></a>\n",
    "### A Very Important Rule <a id=\"important-rule\"></a>\n",
    "\n",
    "There is a simple rule for measurement. To find the probability of measuring a state $|\\psi \\rangle$ in the state $|x\\rangle$ we do:\n",
    "\n",
    "$$p(|x\\rangle) = | \\langle x| \\psi \\rangle|^2$$\n",
    "\n",
    "The symbols $\\langle$ and $|$ tell us $\\langle x |$ is a row vector and the symbols $|$ and $\\rangle$ tell us $|\\psi\\rangle$ is a column vector. In quantum mechanics we call the column vectors _kets_ and the row vectors _bras._ Together they make up _bra-ket_ notation. Any ket $|a\\rangle$ has a corresponding bra $\\langle a|$, and we convert between them using the conjugate transpose.\n",
    "<details>\n",
    "    <summary>Reminder: Conjugate Transpose (Click here to expand)</summary>\n",
    "    <p>Conversion between bra-ket takes places using the <i>conjugate transpose</i> method. We know a ket (column vector) is represented as follows:\n",
    "        $$\\quad|a\\rangle = \\begin{bmatrix}a_0 \\\\ a_1 \\\\ \\vdots \\\\ a_n \\end{bmatrix}$$\n",
    "    </p>\n",
    "    <p>\n",
    "In conjugate transpose method, the matrix is transposed and the elements are complex conjugated (represented by the \"$*$\" operation) where complex conjugate (\"$*$\") of a complex number is a number with an equal real part and an imaginary part equal in magnitude but opposite in sign. This gives the coressponding bra (row vector) as follows:\n",
    "        $$\\langle a| = \\begin{bmatrix}a_0^*, & a_1^*, & \\dots & a_n^* \\end{bmatrix}$$\n",
    "    </p>\n",
    "</details>   \n",
    "\n",
    "<details>\n",
    "  <summary>Reminder: The Inner Product (Click here to expand)</summary>\n",
    "    <p>There are different ways to multiply vectors, here we use the <i>inner product</i>. The inner product is a generalisation of the <i>dot product</i> which you may already be familiar with. In this guide, we use the inner product between a bra (row vector) and a ket (column vector), and it follows this rule:\n",
    "        \n",
    "$$\\langle a| = \\begin{bmatrix}a_0^*, & a_1^*, & \\dots & a_n^* \\end{bmatrix}, \\quad\n",
    "    |b\\rangle = \\begin{bmatrix}b_0 \\\\ b_1 \\\\ \\vdots \\\\ b_n \\end{bmatrix}$$\n",
    "    $$\\langle a|b\\rangle = a_0^* b_0 + a_1^* b_1 \\dots a_n^* b_n$$\n",
    "    </p>\n",
    "  <p>We can see that the inner product of two vectors always gives us a scalar. A useful thing to remember is that the inner product of two orthogonal vectors is 0, for example if we have the orthogonal vectors $|0\\rangle$ and $|1\\rangle$:\n",
    "    $$\\langle1|0\\rangle = \\begin{bmatrix} 0 & 1\\end{bmatrix}\\begin{bmatrix}1 \\\\ 0\\end{bmatrix} = 0$$\n",
    "    </p>\n",
    "  <p>Additionally, remember that the vectors $|0\\rangle$ and $|1\\rangle$ are also normalised (magnitudes are equal to 1):\n",
    "    \n",
    "$$\n",
    "      \\begin{aligned} \n",
    "      \\langle0|0\\rangle & = \\begin{bmatrix} 1 & 0\\end{bmatrix}\\begin{bmatrix}1 \\\\ 0\\end{bmatrix} = 1 \\\\\n",
    "      \\langle1|1\\rangle & = \\begin{bmatrix} 0 & 1\\end{bmatrix}\\begin{bmatrix}0 \\\\ 1\\end{bmatrix} = 1\n",
    "      \\end{aligned}\n",
    "$$\n",
    "   </p>\n",
    "</details>\n",
    "\n",
    "         \n",
    "In the equation above, $|x\\rangle$ can be any qubit state. To find the probability of measuring $|x\\rangle$, we take the inner product of $|x\\rangle$ and the state we are measuring (in this case $|\\psi\\rangle$), then square the magnitude. This may seem a little convoluted, but it will soon become second nature.\n",
    "\n",
    "If we look at the state $|q_0\\rangle$ from before, we can see the probability of measuring $|0\\rangle$ is indeed $0.5$:\n",
    "\n",
    "$$\n",
    "\\begin{aligned}\n",
    "|q_0\\rangle & = \\tfrac{1}{\\sqrt{2}}|0\\rangle + \\tfrac{i}{\\sqrt{2}}|1\\rangle \\\\\n",
    "\\langle 0| q_0 \\rangle  & = \\tfrac{1}{\\sqrt{2}}\\langle 0|0\\rangle + \\tfrac{i}{\\sqrt{2}}\\langle 0|1\\rangle \\\\\n",
    "& = \\tfrac{1}{\\sqrt{2}}\\cdot 1 +  \\tfrac{i}{\\sqrt{2}} \\cdot 0\\\\\n",
    "& = \\tfrac{1}{\\sqrt{2}}\\\\\n",
    "|\\langle 0| q_0 \\rangle|^2 & = \\tfrac{1}{2}\n",
    "\\end{aligned}\n",
    "$$\n",
    "\n",
    "You should verify the probability of measuring $|1\\rangle$ as an exercise.\n",
    "\n",
    "This rule governs how we get information out of quantum states. It is therefore very important for everything we do in quantum computation. It also immediately implies several important facts.\n",
    "\n",
    "### The Implications of this Rule <a id=\"implications\"></a>\n",
    "### #1 Normalisation\n",
    "\n",
    "The rule shows us that amplitudes are related to probabilities. If we want the probabilities to add up to 1 (which they should!), we need to ensure that the statevector is properly normalized. Specifically, we need the magnitude of the state vector to be 1.\n",
    "\n",
    "$$ \\langle\\psi|\\psi\\rangle = 1 \\\\ $$\n",
    "\n",
    "Thus if:\n",
    "\n",
    "$$ |\\psi\\rangle = \\alpha|0\\rangle + \\beta|1\\rangle $$\n",
    "\n",
    "Then:\n",
    "\n",
    "$$ |\\alpha|^2 + |\\beta|^2 = 1 $$\n",
    "\n",
    "### #2 Alternative measurement\n",
    "\n",
    "The measurement rule gives us the probability $p(|x\\rangle)$ that a state $|\\psi\\rangle$ is measured as $|x\\rangle$. Nowhere does it tell us that $|x\\rangle$ can only be either $|0\\rangle$ or $|1\\rangle$.\n",
    "\n",
    "The measurements we have considered so far are in fact only one of an infinite number of possible ways to measure a qubit. For any orthogonal pair of states, we can define a measurement that would cause a qubit to choose between the two.\n",
    "\n",
    "This possibility will be explored more in the next section. For now, just bear in mind that $|x\\rangle$ is not limited to being simply $|0\\rangle$ or $|1\\rangle$.\n",
    "\n",
    "### #3 Global Phase\n",
    "\n",
    "We know that measuring the state $|1\\rangle$ will give us the output `1` with certainty. But we are also able to write down states such as \n",
    "\n",
    "$$\\begin{bmatrix}0 \\\\ i\\end{bmatrix} = i|1\\rangle.$$\n",
    "\n",
    "To see how this behaves, we apply the measurement rule.\n",
    "\n",
    "$$ |\\langle x| (i|1\\rangle) |^2 = | i \\langle x|1\\rangle|^2 = |\\langle x|1\\rangle|^2 $$\n",
    "\n",
    "Here we find that the factor of $i$ disappears once we take the magnitude of the complex number. This effect is completely independent of the measured state $|x\\rangle$. It does not matter what measurement we are considering, the probabilities for the state $i|1\\rangle$ are identical to those for $|1\\rangle$. Since measurements are the only way we can extract any information from a qubit, this implies that these two states are equivalent in all ways that are physically relevant.\n",
    "\n",
    "More generally, we refer to any overall factor $\\gamma$ on a state for which $|\\gamma|=1$ as a 'global phase'. States that differ only by a global phase are physically indistinguishable.\n",
    "\n",
    "$$ |\\langle x| ( \\gamma |a\\rangle) |^2 = | \\gamma \\langle x|a\\rangle|^2 = |\\langle x|a\\rangle|^2 $$\n",
    "\n",
    "Note that this is distinct from the phase difference _between_ terms in a superposition, which is known as the 'relative phase'. This becomes relevant once we consider different types of measurement and multiple qubits.\n",
    "\n",
    "\n",
    "### #4 The Observer Effect\n",
    "\n",
    "We know that the amplitudes contain information about the probability of us finding the qubit in a specific state, but once we have measured the qubit, we know with certainty what the state of the qubit is. For example, if we measure a qubit in the state:\n",
    "\n",
    "$$ |q\\rangle = \\alpha|0\\rangle + \\beta|1\\rangle$$\n",
    "\n",
    "And find it in the state $|0\\rangle$, if we measure again, there is a 100% chance of finding the qubit in the state $|0\\rangle$. This means the act of measuring _changes_ the state of our qubits.\n",
    "\n",
    "$$ |q\\rangle = \\begin{bmatrix} \\alpha \\\\ \\beta \\end{bmatrix} \\xrightarrow{\\text{Measure }|0\\rangle} |q\\rangle = |0\\rangle = \\begin{bmatrix} 1 \\\\ 0 \\end{bmatrix}$$\n",
    "\n",
    "We sometimes refer to this as _collapsing_ the state of the qubit. It is a potent effect, and so one that must be used wisely. For example, were we to constantly measure each of our qubits to keep track of their value at each point in a computation, they would always simply be in a well-defined state of either $|0\\rangle$ or $|1\\rangle$. As such, they would be no different from classical bits and our computation could be easily replaced by a classical computation. To achieve truly quantum computation we must allow the qubits to explore more complex states. Measurements are therefore only used when we need to extract an output. This means that we often place all the measurements at the end of our quantum circuit. \n",
    "\n",
    "## The Bloch Sphere <a id=\"bloch-sphere\"></a>\n",
    "### Describing the Restricted Qubit State <a id=\"bloch-sphere-1\"></a>\n",
    "\n",
    "We saw earlier in this chapter that the general state of a qubit ($|q\\rangle$) is:\n",
    "\n",
    "$$\n",
    "|q\\rangle = \\alpha|0\\rangle + \\beta|1\\rangle\n",
    "$$\n",
    "\n",
    "$$\n",
    "\\alpha, \\beta \\in \\mathbb{C}\n",
    "$$\n",
    "\n",
    "(The second line tells us $\\alpha$ and $\\beta$ are complex numbers). The first two implications in section 2 tell us that we cannot differentiate between some of these states. This means we can be more specific in our description of the qubit. \n",
    "\n",
    "Firstly, since we cannot measure global phase, we can only measure the difference in phase between the states $|0\\rangle$ and $|1\\rangle$. Instead of having $\\alpha$ and $\\beta$ be complex, we can confine them to the real numbers and add a term to tell us the relative phase between them:\n",
    "\n",
    "$$\n",
    "|q\\rangle = \\alpha|0\\rangle + e^{i\\phi}\\beta|1\\rangle\n",
    "$$\n",
    "\n",
    "$$\n",
    "\\alpha, \\beta, \\phi \\in \\mathbb{R}\n",
    "$$\n",
    "\n",
    "Finally, since the qubit state must be normalised, i.e.\n",
    "\n",
    "$$\n",
    "\\sqrt{\\alpha^2 + \\beta^2} = 1\n",
    "$$\n",
    "\n",
    "we can use the trigonometric identity:\n",
    "\n",
    "$$\n",
    "\\sqrt{\\sin^2{x} + \\cos^2{x}} = 1\n",
    "$$\n",
    "\n",
    "to describe the real $\\alpha$ and $\\beta$ in terms of one variable, $\\theta$:\n",
    "\n",
    "$$\n",
    "\\alpha = \\cos{\\tfrac{\\theta}{2}}, \\quad \\beta=\\sin{\\tfrac{\\theta}{2}}\n",
    "$$\n",
    "\n",
    "From this we can describe the state of any qubit using the two variables $\\phi$ and $\\theta$:\n",
    "\n",
    "$$\n",
    "|q\\rangle = \\cos{\\tfrac{\\theta}{2}}|0\\rangle + e^{i\\phi}\\sin{\\tfrac{\\theta}{2}}|1\\rangle\n",
    "$$\n",
    "\n",
    "$$\n",
    "\\theta, \\phi \\in \\mathbb{R}\n",
    "$$\n",
    "\n",
    "### Visually Representing a Qubit State <a id=\"bloch-sphere-2\"></a>\n",
    "\n",
    "We want to plot our general qubit state:\n",
    "\n",
    "$$\n",
    "|q\\rangle = \\cos{\\tfrac{\\theta}{2}}|0\\rangle + e^{i\\phi}\\sin{\\tfrac{\\theta}{2}}|1\\rangle\n",
    "$$\n",
    "\n",
    "If we interpret $\\theta$ and $\\phi$ as spherical co-ordinates ($r = 1$, since the magnitude of the qubit state is $1$), we can plot any single qubit state on the surface of a sphere, known as the _Bloch sphere._\n"
   ]
  },
  {
   "cell_type": "markdown",
   "metadata": {},
   "source": [
    "---\n",
    "---\n",
    "\n",
    "# 1. The Bloch Sphere\n",
    "\n",
    "To represent the state of **individual** qubits, we can use the Bloch Sphere.\n",
    "\n",
    "Intuitivelly, the arrow is as near to the poles as the **probability** of measuring 1 or 0 respectivelly"
   ]
  },
  {
   "cell_type": "markdown",
   "metadata": {},
   "source": [
    "### Before we represent a qubit state, let's create a circuit"
   ]
  },
  {
   "cell_type": "code",
   "execution_count": null,
   "metadata": {},
   "outputs": [],
   "source": [
    "from qiskit import QuantumCircuit\n",
    "### YOUR CODE HERE\n",
    "\n",
    "\n",
    "###"
   ]
  },
  {
   "cell_type": "markdown",
   "metadata": {},
   "source": [
    "Let's now initialize our qubit in the state |0>"
   ]
  },
  {
   "cell_type": "code",
   "execution_count": null,
   "metadata": {},
   "outputs": [],
   "source": [
    "initial_state = [1,0]   # Define initial_state as |0>\n",
    "circuit.initialize(initial_state, 0) # Apply initialisation operation to the 0th qubit\n",
    "circuit.draw('mpl')  # Let's view our circuit"
   ]
  },
  {
   "cell_type": "markdown",
   "metadata": {},
   "source": [
    "We can also use Qiskit to see a mathematical view of the state of our circuit"
   ]
  },
  {
   "cell_type": "code",
   "execution_count": null,
   "metadata": {},
   "outputs": [],
   "source": [
    "from qiskit import quantum_info\n",
    "from qiskit.visualization import array_to_latex\n",
    "\n",
    "psi = quantum_info.Statevector.from_instruction(circuit)\n",
    "\n",
    "array_to_latex(psi.data.reshape((-1, 1)), prefix=\"|\\\\psi\\\\rangle =\")"
   ]
  },
  {
   "cell_type": "markdown",
   "metadata": {},
   "source": [
    "Now we are ready to use the Bloch Sphere to see the position of our qubit"
   ]
  },
  {
   "cell_type": "code",
   "execution_count": null,
   "metadata": {},
   "outputs": [],
   "source": [
    "from qiskit.visualization import plot_bloch_multivector\n",
    "plot_bloch_multivector(psi)"
   ]
  },
  {
   "cell_type": "markdown",
   "metadata": {},
   "source": [
    "## Excercise: Create a circuit in the state |1> and represent it with a bloch sphere"
   ]
  },
  {
   "cell_type": "code",
   "execution_count": null,
   "metadata": {},
   "outputs": [],
   "source": [
    "# **** ADD YOUR CODE HERE ***\n",
    "\n",
    "\n",
    "# ***************************"
   ]
  },
  {
   "cell_type": "markdown",
   "metadata": {},
   "source": [
    "## Excercise: Initialize a qubit with 50/50 probabilities of it being 0/1"
   ]
  },
  {
   "cell_type": "code",
   "execution_count": null,
   "metadata": {},
   "outputs": [],
   "source": [
    "from math import sqrt\n",
    "# **** ADD YOUR CODE HERE ***\n",
    "\n",
    "\n",
    "# ***************************"
   ]
  },
  {
   "cell_type": "markdown",
   "metadata": {},
   "source": [
    "---\n",
    "---\n",
    "\n",
    "# 2. Pauli Gates"
   ]
  },
  {
   "cell_type": "code",
   "execution_count": null,
   "metadata": {},
   "outputs": [],
   "source": [
    "# Importing standard Qiskit libraries and configuring account\n",
    "from qiskit import QuantumCircuit, quantum_info\n",
    "\n",
    "from math import sqrt, pi"
   ]
  },
  {
   "cell_type": "markdown",
   "metadata": {},
   "source": [
    "## The identity gate \n",
    "Turns |0⟩ into |0⟩ and |1⟩ into |1⟩, hence doing nothing: \n",
    "\n",
    "    I|0⟩ = |0⟩,\n",
    "\n",
    "    I|1⟩ = |1⟩.\n",
    "\n",
    "This is a classical reversible gate (the identity gate), so it keeps states normalized and is a valid quantum gate."
   ]
  },
  {
   "cell_type": "code",
   "execution_count": null,
   "metadata": {},
   "outputs": [],
   "source": [
    "from qiskit.visualization import plot_bloch_multivector\n",
    "\n",
    "qc = QuantumCircuit(1)\n",
    "### YOUR CODE HERE\n",
    "\n",
    "\n",
    "###\n",
    "psi = quantum_info.Statevector.from_instruction(qc)\n",
    "\n",
    "plot_bloch_multivector(psi)"
   ]
  },
  {
   "cell_type": "code",
   "execution_count": null,
   "metadata": {},
   "outputs": [],
   "source": [
    "state = quantum_info.Statevector.from_instruction(qc)\n",
    "state.draw('latex')"
   ]
  },
  {
   "cell_type": "markdown",
   "metadata": {},
   "source": [
    "## The Pauli X gate \n",
    "\n",
    "Or NOT gate, turns |0⟩ into |1⟩, and |1⟩ into |0⟩: \n",
    "\n",
    "    X|0⟩ = |1⟩,\n",
    "\n",
    "    X|1⟩ = |0⟩.\n",
    "\n",
    "This is a classical reversible gate (the NOT gate), so it keeps states normalized and is a valid quantum gate.\n",
    "\n",
    "On the Bloch sphere, it can be shown that X is a rotation about the x-axis by 180◦\n",
    "\n",
    "With this rotation in mind, we geometrically see that X causes |0⟩ (the north pole) to rotate to |1⟩ (the south pole), and vice versa. \n",
    "\n",
    "We also see that |i⟩ and |−i⟩ rotate to each other, whereas |+⟩ and |−⟩ are unchanged. \n",
    "\n",
    "Note, however, that mathematically X |−⟩ = −|−⟩ ≡ |−⟩ since the global phase does not matter. "
   ]
  },
  {
   "cell_type": "code",
   "execution_count": null,
   "metadata": {},
   "outputs": [],
   "source": [
    "from qiskit.visualization import plot_bloch_multivector\n",
    "\n",
    "qc = QuantumCircuit(1)\n",
    "### YOUR CODE HERE\n",
    "\n",
    "\n",
    "###\n",
    "psi = quantum_info.Statevector.from_instruction(qc)\n",
    "\n",
    "plot_bloch_multivector(psi)"
   ]
  },
  {
   "cell_type": "code",
   "execution_count": null,
   "metadata": {},
   "outputs": [],
   "source": [
    "state = quantum_info.Statevector.from_instruction(qc)\n",
    "state.draw('latex')"
   ]
  },
  {
   "cell_type": "markdown",
   "metadata": {},
   "source": [
    "If we apply the X gate twice, we rotate around the x-axis of the Bloch sphere by 360◦, which does nothing. Then, X^2 = I."
   ]
  },
  {
   "cell_type": "code",
   "execution_count": null,
   "metadata": {},
   "outputs": [],
   "source": [
    "from qiskit.visualization import plot_bloch_multivector\n",
    "\n",
    "qc = QuantumCircuit(1)\n",
    "### YOUR CODE HERE\n",
    "\n",
    "\n",
    "###\n",
    "psi = quantum_info.Statevector.from_instruction(qc)\n",
    "\n",
    "plot_bloch_multivector(psi)"
   ]
  },
  {
   "cell_type": "code",
   "execution_count": null,
   "metadata": {},
   "outputs": [],
   "source": [
    "state = quantum_info.Statevector.from_instruction(qc)\n",
    "state.draw('latex')"
   ]
  },
  {
   "cell_type": "markdown",
   "metadata": {},
   "source": [
    "## The Pauli Y gate \n",
    "Turns |0⟩ into i|1⟩, and |1⟩ into −i|0⟩:\n",
    "\n",
    "    Y |0⟩ = i|1⟩, \n",
    "    \n",
    "    Y |1⟩ = −i|0⟩.\n",
    "\n",
    "This is not a classical gate at all because of the i and −i. \n",
    "\n",
    "Let us prove that it is a valid quantum gate by acting on a general superposition:\n",
    "\n",
    "Y (α |0⟩ + β |1⟩) = α Y |0⟩ +β Y |1⟩ = iα |1⟩ − iβ |0⟩ = −iβ |0⟩ + iα |1⟩. |{z} |{z}\n",
    "\n",
    "The total probability of this is\n",
    "\n",
    "|−iβ|^2 +|iα|^2 = (−iβ)(iβ∗)+(iα)(−iα∗) = |β|^2 +|α|^2 = 1,\n",
    "\n",
    "so it is a valid quantum gate.\n",
    "\n",
    "On the Bloch sphere, it can be shown that Y is a rotation about the y-axis by 180◦\n",
    "\n"
   ]
  },
  {
   "cell_type": "code",
   "execution_count": null,
   "metadata": {},
   "outputs": [],
   "source": [
    "from qiskit.visualization import plot_bloch_multivector\n",
    "\n",
    "qc = QuantumCircuit(1)\n",
    "### YOUR CODE HERE\n",
    "\n",
    "\n",
    "###\n",
    "psi = quantum_info.Statevector.from_instruction(qc)\n",
    "\n",
    "plot_bloch_multivector(psi)"
   ]
  },
  {
   "cell_type": "code",
   "execution_count": null,
   "metadata": {},
   "outputs": [],
   "source": [
    "state = quantum_info.Statevector.from_instruction(qc)\n",
    "state.draw('latex')"
   ]
  },
  {
   "cell_type": "markdown",
   "metadata": {},
   "source": [
    "So, if we apply the Y gate twice, we rotate around the y-axis of the Bloch sphere by 360◦, which does nothing. Then, $Y^2 = I$."
   ]
  },
  {
   "cell_type": "code",
   "execution_count": null,
   "metadata": {},
   "outputs": [],
   "source": [
    "from qiskit.visualization import plot_bloch_multivector\n",
    "\n",
    "qc = QuantumCircuit(1)\n",
    "### YOUR CODE HERE\n",
    "\n",
    "\n",
    "###\n",
    "psi = quantum_info.Statevector.from_instruction(qc)\n",
    "\n",
    "plot_bloch_multivector(psi)"
   ]
  },
  {
   "cell_type": "code",
   "execution_count": null,
   "metadata": {},
   "outputs": [],
   "source": [
    "state = quantum_info.Statevector.from_instruction(qc)\n",
    "state.draw('latex')"
   ]
  },
  {
   "cell_type": "markdown",
   "metadata": {},
   "source": [
    "## The Pauli Z gate\n",
    "\n",
    "Keeps |0⟩ as |0⟩ and turns |1⟩ into −|1⟩:\n",
    "\n",
    "    Z|0⟩ = |0⟩,\n",
    "\n",
    "    Z|1⟩ = −|1⟩.\n",
    "\n",
    "This is not a classical gate at all. (Exercise: show that this is a valid quantum gate).\n",
    "\n",
    "On the Bloch sphere, it can be shown that Z is a rotation about the z-axis by 180◦\n"
   ]
  },
  {
   "cell_type": "code",
   "execution_count": null,
   "metadata": {},
   "outputs": [],
   "source": [
    "from qiskit.visualization import plot_bloch_multivector\n",
    "\n",
    "qc = QuantumCircuit(1)\n",
    "### YOUR CODE HERE\n",
    "\n",
    "\n",
    "###\n",
    "psi = quantum_info.Statevector.from_instruction(qc)\n",
    "\n",
    "plot_bloch_multivector(psi)"
   ]
  },
  {
   "cell_type": "code",
   "execution_count": null,
   "metadata": {},
   "outputs": [],
   "source": [
    "state = quantum_info.Statevector.from_instruction(qc)\n",
    "state.draw('latex')"
   ]
  },
  {
   "cell_type": "markdown",
   "metadata": {},
   "source": [
    "As before, $Z^2 = I$."
   ]
  },
  {
   "cell_type": "code",
   "execution_count": null,
   "metadata": {},
   "outputs": [],
   "source": [
    "from qiskit.visualization import plot_bloch_multivector\n",
    "\n",
    "qc = QuantumCircuit(1)\n",
    "### YOUR CODE HERE\n",
    "\n",
    "\n",
    "###\n",
    "psi = quantum_info.Statevector.from_instruction(qc)\n",
    "\n",
    "plot_bloch_multivector(psi)"
   ]
  },
  {
   "cell_type": "code",
   "execution_count": null,
   "metadata": {},
   "outputs": [],
   "source": [
    "state = quantum_info.Statevector.from_instruction(qc)\n",
    "state.draw('latex')"
   ]
  },
  {
   "cell_type": "markdown",
   "metadata": {},
   "source": [
    "#### Quick Exercise\n",
    "1. Initialize a state with measurement probabilities: ($1/3$ probability of measuring $|0\\rangle$).\n",
    "2. Test the resulting state after applying each of the Pauli gates."
   ]
  },
  {
   "cell_type": "code",
   "execution_count": null,
   "metadata": {},
   "outputs": [],
   "source": [
    "# **** ADD YOUR CODE HERE ***\n",
    "\n",
    "\n",
    "# ***************************"
   ]
  },
  {
   "cell_type": "markdown",
   "metadata": {},
   "source": [
    "---\n",
    "---\n",
    "\n",
    "# 3. The Hadamard Gate"
   ]
  },
  {
   "cell_type": "markdown",
   "metadata": {},
   "source": [
    "Turns |0⟩ into |+⟩, and |1⟩ into |−⟩:\n",
    "\n",
    "H|0⟩= $\\sqrt{\\frac{1}{2}}$(|0⟩+|1⟩)=|+⟩,\n",
    "\n",
    "H|1⟩= $\\sqrt{\\frac{1}{2}}$(|0⟩−|1⟩)=|−⟩.\n",
    "\n",
    "On the Bloch sphere, it can be shown that H is a rotation about the x + z-axis by 180"
   ]
  },
  {
   "cell_type": "code",
   "execution_count": null,
   "metadata": {},
   "outputs": [],
   "source": [
    "from qiskit.visualization import plot_bloch_multivector\n",
    "\n",
    "qc = QuantumCircuit(1)\n",
    "### YOUR CODE HERE\n",
    "\n",
    "\n",
    "###\n",
    "psi = quantum_info.Statevector.from_instruction(qc)\n",
    "\n",
    "plot_bloch_multivector(psi)"
   ]
  },
  {
   "cell_type": "markdown",
   "metadata": {},
   "source": [
    "Then, H maps between |0⟩ and |+⟩, between |1⟩ and |−⟩, and between |i⟩ and |−i⟩.\n",
    "\n",
    "If we apply the H gate twice, we rotates by 360◦, which does nothing. So, $H^2 = I$."
   ]
  },
  {
   "cell_type": "code",
   "execution_count": null,
   "metadata": {},
   "outputs": [],
   "source": [
    "from qiskit.visualization import plot_bloch_multivector\n",
    "\n",
    "qc = QuantumCircuit(1)\n",
    "\n",
    "### YOUR CODE HERE\n",
    "\n",
    "\n",
    "###\n",
    "psi = quantum_info.Statevector.from_instruction(qc)\n",
    "\n",
    "plot_bloch_multivector(psi)"
   ]
  }
 ],
 "metadata": {
  "kernelspec": {
   "display_name": "quantum_venv",
   "language": "python",
   "name": "python3"
  },
  "language_info": {
   "codemirror_mode": {
    "name": "ipython",
    "version": 3
   },
   "file_extension": ".py",
   "mimetype": "text/x-python",
   "name": "python",
   "nbconvert_exporter": "python",
   "pygments_lexer": "ipython3",
   "version": "3.11.7"
  }
 },
 "nbformat": 4,
 "nbformat_minor": 2
}
