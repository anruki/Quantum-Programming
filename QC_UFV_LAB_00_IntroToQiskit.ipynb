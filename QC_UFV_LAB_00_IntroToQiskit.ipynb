{
 "cells": [
  {
   "cell_type": "markdown",
   "metadata": {},
   "source": [
    "# UFV QC 00 Lab - Introduction to Qiskit"
   ]
  },
  {
   "cell_type": "markdown",
   "metadata": {},
   "source": [
    "### Objective\n",
    "The objective of this lab is to get used to using Jupyter Notebooks and Qiskit\n",
    "\n",
    "We will see how to:\n",
    "\n",
    "1. Create a notebook in the IBM Quantum Lab\n",
    "2. The notion of a Circuit\n",
    "3. How to apply Gates\n",
    "4. How to run circuits with Samplers and Estimators\n",
    "5. Result visualization"
   ]
  },
  {
   "cell_type": "markdown",
   "metadata": {},
   "source": [
    "### 1. First, we need to define a quantum circuit\n",
    "\n",
    "There are two ways of creating Quantum Circuits:\n",
    "1. The explanatory way, which allows us to name our Qubits and Bits\n",
    "2. The simplified way "
   ]
  },
  {
   "cell_type": "code",
   "execution_count": 1,
   "metadata": {},
   "outputs": [],
   "source": [
    "# First things first, lets import the required libraries\n",
    "from qiskit import QuantumCircuit, QuantumRegister, ClassicalRegister"
   ]
  },
  {
   "cell_type": "code",
   "execution_count": 2,
   "metadata": {},
   "outputs": [],
   "source": [
    "# Explanatory way\n",
    "\n",
    "qubit = QuantumRegister(1, \"Qubit\") # Preparing a Qubit for our circuit\n",
    "bit = ClassicalRegister(1, \"Bit\") # Preparing a Bit for our circuit\n",
    "\n",
    "# We join them both into a single circuit\n",
    "sample_circuit = QuantumCircuit(qubit, bit)"
   ]
  },
  {
   "cell_type": "code",
   "execution_count": 3,
   "metadata": {},
   "outputs": [],
   "source": [
    "# Simplified Way\n",
    "\n",
    "simplified_sample_circuit = QuantumCircuit(1, 1) # Here we represent that we want one Qubit and one Bit"
   ]
  },
  {
   "cell_type": "markdown",
   "metadata": {},
   "source": [
    "These two ways of defining a circuit do exactly the same in the end.\n",
    "\n",
    "Let's now display a representation of these circuits to compare them"
   ]
  },
  {
   "cell_type": "code",
   "execution_count": 4,
   "metadata": {},
   "outputs": [
    {
     "data": {
      "text/html": [
       "<pre style=\"word-wrap: normal;white-space: pre;background: #fff0;line-height: 1.1;font-family: &quot;Courier New&quot;,Courier,monospace\">       \n",
       "Qubit: \n",
       "       \n",
       "Bit: 1/\n",
       "       </pre>"
      ],
      "text/plain": [
       "       \n",
       "Qubit: \n",
       "       \n",
       "Bit: 1/\n",
       "       "
      ]
     },
     "metadata": {},
     "output_type": "display_data"
    },
    {
     "data": {
      "text/html": [
       "<pre style=\"word-wrap: normal;white-space: pre;background: #fff0;line-height: 1.1;font-family: &quot;Courier New&quot;,Courier,monospace\">     \n",
       "  q: \n",
       "     \n",
       "c: 1/\n",
       "     </pre>"
      ],
      "text/plain": [
       "     \n",
       "  q: \n",
       "     \n",
       "c: 1/\n",
       "     "
      ]
     },
     "metadata": {},
     "output_type": "display_data"
    }
   ],
   "source": [
    "display(sample_circuit.draw())\n",
    "display(simplified_sample_circuit.draw())"
   ]
  },
  {
   "cell_type": "code",
   "execution_count": 5,
   "metadata": {},
   "outputs": [
    {
     "name": "stderr",
     "output_type": "stream",
     "text": [
      "/home/user/Sync/Repositories/Teaching/quantum_venv/lib64/python3.11/site-packages/qiskit/visualization/circuit/matplotlib.py:266: FutureWarning: The default matplotlib drawer scheme will be changed to \"iqp\" in a following release. To silence this warning, specify the current default explicitly as style=\"clifford\", or the new default as style=\"iqp\".\n",
      "  self._style, def_font_ratio = load_style(self._style)\n"
     ]
    },
    {
     "data": {
      "image/png": "[encoded data removed]",
      "text/plain": [
       "<Figure size 204.147x200.667 with 1 Axes>"
      ]
     },
     "execution_count": 5,
     "metadata": {},
     "output_type": "execute_result"
    }
   ],
   "source": [
    "# We can also display it graphically\n",
    "sample_circuit.draw('mpl')"
   ]
  },
  {
   "cell_type": "markdown",
   "metadata": {},
   "source": [
    "### 3. Applying basic gates on the circuit"
   ]
  },
  {
   "cell_type": "markdown",
   "metadata": {},
   "source": [
    "To do so we can do it in multiple ways:\n",
    "1. We can target the qubit by its index\n",
    "2. We can target the qubit with the variable we created previously "
   ]
  },
  {
   "cell_type": "code",
   "execution_count": 6,
   "metadata": {},
   "outputs": [
    {
     "data": {
      "image/png": "[encoded data removed]",
      "text/plain": [
       "<Figure size 329.563x200.667 with 1 Axes>"
      ]
     },
     "execution_count": 6,
     "metadata": {},
     "output_type": "execute_result"
    }
   ],
   "source": [
    "# Let's apply a Hadamard Gate in the normal way\n",
    "sample_circuit.h(qubit)\n",
    "sample_circuit.measure(qubit, bit)\n",
    "\n",
    "sample_circuit.draw('mpl')"
   ]
  },
  {
   "cell_type": "code",
   "execution_count": 7,
   "metadata": {},
   "outputs": [
    {
     "data": {
      "image/png": "[encoded data removed]",
      "text/plain": [
       "<Figure size 269.064x200.667 with 1 Axes>"
      ]
     },
     "execution_count": 7,
     "metadata": {},
     "output_type": "execute_result"
    }
   ],
   "source": [
    "# Or we can do the same in the simplified version\n",
    "# Let's apply a Hadamard Gate in the normal way\n",
    "simplified_sample_circuit.h(0)\n",
    "simplified_sample_circuit.measure(0, 0)\n",
    "\n",
    "simplified_sample_circuit.draw('mpl')"
   ]
  },
  {
   "cell_type": "markdown",
   "metadata": {},
   "source": [
    "### 4. We can now run this circuit with the Qiskit Primitives "
   ]
  },
  {
   "cell_type": "markdown",
   "metadata": {},
   "source": [
    "The primitives represent the two kinds of data we can extract from running quantum circuits:\n",
    "- Expectation values (**Estimator**)\n",
    "- Statistical distributions of results (**Sampler**)\n",
    "\n",
    "### As explained in the Qiskit Docs\n",
    "\n",
    "#### Estimator\n",
    "> The Estimator primitive computes expectation values of observables with respect to states prepared by quantum circuits. The Estimator receives circuit-observable pairs (with the observable expressed as a weighted sum of Pauli operators) as inputs, and returns the computed expectation values per pair, as well as their variances. Different Estimator implementations support various configuration options. The circuits can be parametrized, as long as the parameter values are also provided as input to the primitive.\n",
    "\n",
    "#### Sampler\n",
    ">The Sampler primitive samples from the classical output registers resulting from execution of quantum circuits. For this reason, the inputs to the Sampler are (parametrized) quantum circuits, for which it returns the corresponding quasi-probability distributions of sampled bitstrings. Quasi-probability distributions are similar to regular probabilities, except they may include negative values, which can occur when using certain error mitigation techniques."
   ]
  },
  {
   "cell_type": "markdown",
   "metadata": {},
   "source": [
    "**For now, we will only be using the Sampler function, which gives us a distribution of the results obtained from the circuit**"
   ]
  },
  {
   "cell_type": "code",
   "execution_count": null,
   "metadata": {},
   "outputs": [],
   "source": [
    "# As always the first step is to import the required libraries\n",
    "# from qiskit_ibm_runtime import QiskitRuntimeService, Sampler, Batch\n",
    "from qiskit_ibm_runtime import QiskitRuntimeService, Estimator, Sampler, Session"
   ]
  },
  {
   "cell_type": "code",
   "execution_count": null,
   "metadata": {},
   "outputs": [],
   "source": [
    "# Then we must initialize the Qiskit Runtime Service\n",
    "\n",
    "## If we are using the IBM Quantum Lab we can just do the following:\n",
    "service = QiskitRuntimeService()\n",
    "\n",
    "## Else we must complicate it a bit\n",
    "# service = QiskitRuntimeService(\n",
    "#     channel='ibm_quantum',\n",
    "#     instance='ibm-q/open/main',\n",
    "#     token='YOUR API TOKEN, GET IT FROM THE TOP RIGHT CORNER IN quantum.ibm.com'\n",
    "# )"
   ]
  },
  {
   "cell_type": "code",
   "execution_count": null,
   "metadata": {},
   "outputs": [],
   "source": [
    "# In order to execute a job, we need to select a backend [https://quantum.ibm.com/services/resources]\n",
    "## We can choose a real quantum computer \n",
    "# backend_real = service.backend(\"ibm_brisbane\")\n",
    "\n",
    "## Or a simulator. In this case we will run the circuit in a simulator:\n",
    "backend_simulator = service.get_backend('ibmq_qasm_simulator')"
   ]
  },
  {
   "cell_type": "markdown",
   "metadata": {},
   "source": [
    "#### Executing using an Estimator"
   ]
  },
  {
   "cell_type": "code",
   "execution_count": null,
   "metadata": {},
   "outputs": [],
   "source": [
    "from qiskit.quantum_info import SparsePauliOp # We will see this later on in the course\n",
    "\n",
    "observable = SparsePauliOp(['Z']) # This represents measuring the expectation value in the Z Axis\n",
    "\n",
    "with Session(service=service, backend=backend_simulator) as session:\n",
    "    estimator = Estimator(session=session)\n",
    "    job = estimator.run(circuits=sample_circuit, observables=observable)\n",
    "    print(job.result())"
   ]
  },
  {
   "cell_type": "markdown",
   "metadata": {},
   "source": [
    "#### Executing using a Sampler"
   ]
  },
  {
   "cell_type": "code",
   "execution_count": null,
   "metadata": {},
   "outputs": [],
   "source": [
    "# We can now execute our program using a Sampler Primitive\n",
    "\n",
    "with Session(service=service, backend=backend_simulator) as session:\n",
    "    estimator = Sampler(session=session)\n",
    "    job = estimator.run(circuits=sample_circuit)\n",
    "    print(job.result())"
   ]
  },
  {
   "cell_type": "markdown",
   "metadata": {},
   "source": [
    "#### To visualize results we can use the visualization functions"
   ]
  },
  {
   "cell_type": "code",
   "execution_count": null,
   "metadata": {},
   "outputs": [],
   "source": [
    "from qiskit.visualization import plot_histogram\n",
    "\n",
    "plot_histogram(job.result().quasi_dists[0])"
   ]
  }
 ],
 "metadata": {
  "kernelspec": {
   "display_name": "quantum_venv",
   "language": "python",
   "name": "python3"
  },
  "language_info": {
   "codemirror_mode": {
    "name": "ipython",
    "version": 3
   },
   "file_extension": ".py",
   "mimetype": "text/x-python",
   "name": "python",
   "nbconvert_exporter": "python",
   "pygments_lexer": "ipython3",
   "version": "3.11.7"
  }
 },
 "nbformat": 4,
 "nbformat_minor": 2
}
