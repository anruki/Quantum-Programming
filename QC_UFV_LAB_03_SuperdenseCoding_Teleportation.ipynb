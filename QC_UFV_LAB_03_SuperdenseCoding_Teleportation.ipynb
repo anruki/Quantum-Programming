{
 "cells": [
  {
   "cell_type": "markdown",
   "metadata": {},
   "source": [
    "# UFV QC 03 Lab - Superdense Coding & Teleportation"
   ]
  },
  {
   "cell_type": "markdown",
   "metadata": {},
   "source": [
    "### Objective\n",
    "Let's create our first quantum protocols.\n",
    "In this lab we will get learn a bit more about programming with Qiskit, and see three protocols.\n",
    "\n",
    "We will see the following:\n",
    "\n",
    "1. Classical Conditionals\n",
    "2. Custom Gates\n",
    "3. Superdense Coding\n",
    "4. Teleportation Protocol\n",
    "5. Teleportation of Entanglement"
   ]
  },
  {
   "cell_type": "markdown",
   "metadata": {},
   "source": [
    "# 1. Classical conditionals\n",
    "\n",
    "Imagine we have a quantum circuit, where we want to apply a gate based on the state of a classical Bit.\n",
    "\n",
    "In Qiskit, we solve this using the `c_if()` instruction."
   ]
  },
  {
   "cell_type": "code",
   "execution_count": null,
   "metadata": {},
   "outputs": [],
   "source": [
    "from qiskit import QuantumCircuit, ClassicalRegister, QuantumRegister\n",
    "\n",
    "# Let's create a basic circuit\n",
    "q_control = QuantumRegister(1, \"Control\")\n",
    "q_target = QuantumRegister(1, \"Target\")\n",
    "bit = ClassicalRegister(1, \"Bit\")\n",
    "\n",
    "qc = QuantumCircuit(q_control, q_target, bit)\n",
    "\n",
    "qc.draw('mpl')"
   ]
  },
  {
   "cell_type": "code",
   "execution_count": null,
   "metadata": {},
   "outputs": [],
   "source": [
    "# We can now apply gates over the control and measure it\n",
    "qc.h(q_control)\n",
    "qc.measure(q_control, bit)\n",
    "\n",
    "qc.draw('mpl')"
   ]
  },
  {
   "cell_type": "code",
   "execution_count": null,
   "metadata": {},
   "outputs": [],
   "source": [
    "# Let's now do a conditional not on the target qubit using the c_if instruction\n",
    "# The c_if instruction applies the gate only if the given bit has the value we pass to it\n",
    "qc.x(q_target).c_if(bit, 1)\n",
    "\n",
    "qc.draw('mpl')"
   ]
  },
  {
   "cell_type": "markdown",
   "metadata": {},
   "source": [
    "# 2. Composing circuits and Custom Gates\n",
    "\n",
    "Now, imagine that we have two different circuits and we want to join them together.\n",
    "\n",
    "For example one could be the part that initializes our qubits to a state, and the other the one that measures and applies gates.\n",
    "We could create two different circuits, and later on compose them."
   ]
  },
  {
   "cell_type": "code",
   "execution_count": null,
   "metadata": {},
   "outputs": [],
   "source": [
    "# Let's re-do the previous circuit, but separating the initialization and measurement parts\n",
    "\n",
    "initialization_qc = QuantumCircuit(2)\n",
    "\n",
    "initialization_qc.h(0)\n",
    "\n",
    "initialization_qc.draw('mpl')"
   ]
  },
  {
   "cell_type": "code",
   "execution_count": null,
   "metadata": {},
   "outputs": [],
   "source": [
    "measurement_qc = QuantumCircuit(2,1)\n",
    "\n",
    "measurement_qc.measure(0,0)\n",
    "measurement_qc.x(1).c_if(0, 1)\n",
    "\n",
    "measurement_qc.draw('mpl')"
   ]
  },
  {
   "cell_type": "markdown",
   "metadata": {},
   "source": [
    "Lets now compose both parts into a single circuits.\n",
    "\n",
    "We can do multiple things, we do that with the `compose` function"
   ]
  },
  {
   "cell_type": "code",
   "execution_count": null,
   "metadata": {},
   "outputs": [],
   "source": [
    "qc = initialization_qc.compose(measurement_qc, [0,1]) # The second argument, represents the mapping of qubits\n",
    "\n",
    "qc.draw('mpl')"
   ]
  },
  {
   "cell_type": "markdown",
   "metadata": {},
   "source": [
    "We could alternatively, create instructions from both parts, and apply them on a new quantum circuit"
   ]
  },
  {
   "cell_type": "code",
   "execution_count": null,
   "metadata": {},
   "outputs": [],
   "source": [
    "initialization_instruction = initialization_qc.to_instruction(label=\"initialization\")\n",
    "measurement_instruction = measurement_qc.to_instruction(label=\"measurement\")\n",
    "\n",
    "qc = QuantumCircuit(2, 1)\n",
    "\n",
    "qc.append(initialization_instruction, [0,1]) \n",
    "qc.append(measurement_instruction, [0,1], [0]) # Again this requires the mapping, and we are adding the classical mapping in case it is needed\n",
    "\n",
    "qc.draw('mpl')"
   ]
  },
  {
   "cell_type": "markdown",
   "metadata": {},
   "source": [
    "# 3. Superdense Coding\n",
    "\n",
    "If you remember the Superdense Coding protocol, it's composed of two qubits, and the following parts in the circuit:\n",
    "\n",
    "1. Bell State initialization\n",
    "2. Codification of the message\n",
    "3. Bell State Analysis\n",
    "\n",
    "Let's now create our own circuit to do this protocol"
   ]
  },
  {
   "cell_type": "code",
   "execution_count": null,
   "metadata": {},
   "outputs": [],
   "source": [
    "# 1st: Create a QC with 2 qubits to create a bell pair, and convert it into an instruction\n",
    "\n",
    "#### YOUR CODE HERE\n",
    "\n",
    "\n",
    "####"
   ]
  },
  {
   "cell_type": "code",
   "execution_count": null,
   "metadata": {},
   "outputs": [],
   "source": [
    "# 2nd: Given the following function skeleton, fill in the code so that it returns a single qubit instruction to codify a given message.\n",
    "\n",
    "def codify_message(message: list):\n",
    "    #### YOUR CODE HERE\n",
    "\n",
    "\n",
    "\n",
    "    ####\n",
    "    return instruction"
   ]
  },
  {
   "cell_type": "code",
   "execution_count": null,
   "metadata": {},
   "outputs": [],
   "source": [
    "# Test if it works here\n",
    "qc = #....\n",
    "instruction = codify_message(qc, [0,0]) # Change these values for 00, 01, 10, 11\n",
    "\n",
    "# Apply the instruction\n",
    "\n",
    "qc.draw('mpl')"
   ]
  },
  {
   "cell_type": "code",
   "execution_count": null,
   "metadata": {},
   "outputs": [],
   "source": [
    "# 3rd: Create a Bell State analysis instruction from a quantum circuit\n",
    "\n",
    "#### YOUR CODE HERE\n",
    "\n",
    "\n",
    "\n",
    "####"
   ]
  },
  {
   "cell_type": "markdown",
   "metadata": {},
   "source": [
    "Our circuit components are ready! We just have to compose the circuit to see if it worked"
   ]
  },
  {
   "cell_type": "code",
   "execution_count": null,
   "metadata": {},
   "outputs": [],
   "source": [
    "# Compose the Superdense coding circuit for the message [1,1]\n",
    "#### YOUR CODE HERE\n",
    "\n",
    "\n",
    "\n",
    "####"
   ]
  },
  {
   "cell_type": "code",
   "execution_count": null,
   "metadata": {},
   "outputs": [],
   "source": [
    "# Simulate your circuit to see if the circuit works\n",
    "from qiskit_ibm_runtime import QiskitRuntimeService, Sampler, Session\n",
    "\n",
    "service = QiskitRuntimeService()\n",
    "backend_simulator = # Get your backend here\n",
    "\n",
    "#### YOUR CODE TO LAUNCH THE CIRCUIT HERE\n",
    "\n",
    "\n",
    "\n",
    "####"
   ]
  },
  {
   "cell_type": "markdown",
   "metadata": {},
   "source": [
    "# 4. Teleportation protocol\n",
    "\n",
    "If you remember, all of the protocols in this class have the same components, and you just built them!\n",
    "\n",
    "Given the components you created, let's create the Teleportation protocol. \n",
    "The teleportation protocol involved needed 1 Transmitted Qubit a Bell Pair and 2 Bits, and had the following steps:\n",
    "1. Create a Bell Pair\n",
    "2. Use the Bell State analyzer with the Qubit to be transmitted and one of the Qubit of the Bell Pairs\n",
    "3. Given the results of the analyzer, apply the corresponding X and Z gates. "
   ]
  },
  {
   "cell_type": "code",
   "execution_count": null,
   "metadata": {},
   "outputs": [],
   "source": [
    "# Compose the Teleportation protocol circuit here:\n",
    "#### YOUR CODE HERE\n",
    "\n",
    "\n",
    "#### "
   ]
  },
  {
   "cell_type": "markdown",
   "metadata": {},
   "source": [
    "We can now test it, by initializing our qubit to be transmitted to any Quantum State"
   ]
  },
  {
   "cell_type": "code",
   "execution_count": null,
   "metadata": {},
   "outputs": [],
   "source": [
    "# Initialize your qubit to be transmitted to a 25/75 probability amplitude of it being 0/1\n",
    "#### YOUR CODE HERE\n",
    "\n",
    "\n",
    "#### "
   ]
  },
  {
   "cell_type": "code",
   "execution_count": null,
   "metadata": {},
   "outputs": [],
   "source": [
    "# Launch your circuit on a simulator to see the distribution\n",
    "#### YOUR CODE HERE\n",
    "\n",
    "\n",
    "#### "
   ]
  },
  {
   "cell_type": "markdown",
   "metadata": {},
   "source": [
    "# 5. Teleportation of entanglement - HOMEWORK\n",
    "\n",
    "Given the previous components, build the teleportation of entanglement protocol, and then launch it in a simulator."
   ]
  },
  {
   "cell_type": "code",
   "execution_count": null,
   "metadata": {},
   "outputs": [],
   "source": [
    "#### YOUR CODE HERE\n",
    "\n",
    "\n",
    "#### "
   ]
  }
 ],
 "metadata": {
  "kernelspec": {
   "display_name": "Python 3 (ipykernel)",
   "language": "python",
   "name": "python3"
  },
  "language_info": {
   "codemirror_mode": {
    "name": "ipython",
    "version": 3
   },
   "file_extension": ".py",
   "mimetype": "text/x-python",
   "name": "python",
   "nbconvert_exporter": "python",
   "pygments_lexer": "ipython3",
   "version": "3.11.7"
  },
  "widgets": {
   "application/vnd.jupyter.widget-state+json": {
    "state": {
     "020e00ccf12f4d7d89cf1cb0b8541042": {
      "model_module": "@jupyter-widgets/base",
      "model_module_version": "2.0.0",
      "model_name": "LayoutModel",
      "state": {
       "grid_template_areas": "\n                                       \". . . . right \"\n                                        ",
       "grid_template_columns": "20% 20% 20% 20% 20%",
       "width": "100%"
      }
     },
     "0bdb7165189f43f9aa44caeadb2096ec": {
      "model_module": "@jupyter-widgets/controls",
      "model_module_version": "2.0.0",
      "model_name": "HTMLStyleModel",
      "state": {
       "description_width": "",
       "font_size": null,
       "text_color": null
      }
     },
     "104ed68ff08f4c319e74e6f82cb87a70": {
      "model_module": "@jupyter-widgets/controls",
      "model_module_version": "2.0.0",
      "model_name": "HTMLStyleModel",
      "state": {
       "description_width": "",
       "font_size": null,
       "text_color": null
      }
     },
     "1de7f3a789fc4ae69a64588489cd950d": {
      "model_module": "@jupyter-widgets/controls",
      "model_module_version": "2.0.0",
      "model_name": "HTMLModel",
      "state": {
       "layout": "IPY_MODEL_d27b8ee64cf94d9b855287f699991371",
       "style": "IPY_MODEL_8d38513ebe954e0aa604dc0a08d2d7f5",
       "value": "<h5>Status</h5>"
      }
     },
     "21bacf4d8bf64ccb84ec7c27b94b5698": {
      "model_module": "@jupyter-widgets/base",
      "model_module_version": "2.0.0",
      "model_name": "LayoutModel",
      "state": {
       "margin": "0px 0px 0px 37px",
       "width": "600px"
      }
     },
     "4af977e5ba6e4a7c8193d88efbbbf125": {
      "model_module": "@jupyter-widgets/controls",
      "model_module_version": "2.0.0",
      "model_name": "HTMLStyleModel",
      "state": {
       "description_width": "",
       "font_size": null,
       "text_color": null
      }
     },
     "4c2e6fc7c6d94b58bb9e9f10d14501f0": {
      "model_module": "@jupyter-widgets/controls",
      "model_module_version": "2.0.0",
      "model_name": "HTMLModel",
      "state": {
       "layout": "IPY_MODEL_757dbf6aa0ff4bfcb7bf87130119908b",
       "style": "IPY_MODEL_f08e11ce39af4e219c2c43fb9a1a0247",
       "value": "<h5>Backend</h5>"
      }
     },
     "62b68303410f4fe1916843de2a1120d0": {
      "model_module": "@jupyter-widgets/controls",
      "model_module_version": "2.0.0",
      "model_name": "HBoxModel",
      "state": {
       "children": [
        "IPY_MODEL_9fb6703c27e346ce9feccbd785c25962",
        "IPY_MODEL_4c2e6fc7c6d94b58bb9e9f10d14501f0",
        "IPY_MODEL_1de7f3a789fc4ae69a64588489cd950d",
        "IPY_MODEL_cc29691cd4e64a12a25d6f20d8a09d11",
        "IPY_MODEL_81051f8fa59a4fe2bdfa6e4ca97ad5a7"
       ],
       "layout": "IPY_MODEL_21bacf4d8bf64ccb84ec7c27b94b5698"
      }
     },
     "757dbf6aa0ff4bfcb7bf87130119908b": {
      "model_module": "@jupyter-widgets/base",
      "model_module_version": "2.0.0",
      "model_name": "LayoutModel",
      "state": {
       "width": "145px"
      }
     },
     "81051f8fa59a4fe2bdfa6e4ca97ad5a7": {
      "model_module": "@jupyter-widgets/controls",
      "model_module_version": "2.0.0",
      "model_name": "HTMLModel",
      "state": {
       "layout": "IPY_MODEL_aece118b7f794036bc7cee7f94b47cba",
       "style": "IPY_MODEL_0bdb7165189f43f9aa44caeadb2096ec",
       "value": "<h5>Message</h5>"
      }
     },
     "8d38513ebe954e0aa604dc0a08d2d7f5": {
      "model_module": "@jupyter-widgets/controls",
      "model_module_version": "2.0.0",
      "model_name": "HTMLStyleModel",
      "state": {
       "description_width": "",
       "font_size": null,
       "text_color": null
      }
     },
     "9849bf7eb4a043bc8134950fdaa84b57": {
      "model_module": "@jupyter-widgets/base",
      "model_module_version": "2.0.0",
      "model_name": "LayoutModel",
      "state": {
       "width": "190px"
      }
     },
     "990f2da8bb154d2d8d3a779729a40b85": {
      "model_module": "@jupyter-widgets/controls",
      "model_module_version": "2.0.0",
      "model_name": "HTMLStyleModel",
      "state": {
       "description_width": "",
       "font_size": null,
       "text_color": null
      }
     },
     "9fb6703c27e346ce9feccbd785c25962": {
      "model_module": "@jupyter-widgets/controls",
      "model_module_version": "2.0.0",
      "model_name": "HTMLModel",
      "state": {
       "layout": "IPY_MODEL_9849bf7eb4a043bc8134950fdaa84b57",
       "style": "IPY_MODEL_990f2da8bb154d2d8d3a779729a40b85",
       "value": "<h5>Job ID</h5>"
      }
     },
     "a08d6cf407e44b8098cea9b3957db652": {
      "model_module": "@jupyter-widgets/base",
      "model_module_version": "2.0.0",
      "model_name": "LayoutModel",
      "state": {
       "margin": "0px 0px 10px 0px"
      }
     },
     "a802968eb5864005bedcb740cf1bd964": {
      "model_module": "@jupyter-widgets/base",
      "model_module_version": "2.0.0",
      "model_name": "LayoutModel",
      "state": {
       "width": "70px"
      }
     },
     "ae85cd56784c496d8d89dae8e92537c6": {
      "model_module": "@jupyter-widgets/controls",
      "model_module_version": "2.0.0",
      "model_name": "HTMLModel",
      "state": {
       "layout": "IPY_MODEL_a08d6cf407e44b8098cea9b3957db652",
       "style": "IPY_MODEL_4af977e5ba6e4a7c8193d88efbbbf125",
       "value": "<p style='font-family: IBM Plex Sans, Arial, Helvetica, sans-serif; font-size: 20px; font-weight: medium;'>Circuit Properties</p>"
      }
     },
     "aece118b7f794036bc7cee7f94b47cba": {
      "model_module": "@jupyter-widgets/base",
      "model_module_version": "2.0.0",
      "model_name": "LayoutModel",
      "state": {}
     },
     "be7bc18143ed4067b0519b2c5eed9571": {
      "model_module": "@jupyter-widgets/base",
      "model_module_version": "2.0.0",
      "model_name": "LayoutModel",
      "state": {
       "grid_area": "right",
       "padding": "0px 0px 0px 0px",
       "width": "70px"
      }
     },
     "cbe97e27d5a747499645ffe4e90c19cd": {
      "model_module": "@jupyter-widgets/controls",
      "model_module_version": "2.0.0",
      "model_name": "ButtonStyleModel",
      "state": {
       "font_family": null,
       "font_size": null,
       "font_style": null,
       "font_variant": null,
       "font_weight": null,
       "text_color": null,
       "text_decoration": null
      }
     },
     "cc29691cd4e64a12a25d6f20d8a09d11": {
      "model_module": "@jupyter-widgets/controls",
      "model_module_version": "2.0.0",
      "model_name": "HTMLModel",
      "state": {
       "layout": "IPY_MODEL_a802968eb5864005bedcb740cf1bd964",
       "style": "IPY_MODEL_104ed68ff08f4c319e74e6f82cb87a70",
       "value": "<h5>Queue</h5>"
      }
     },
     "d27b8ee64cf94d9b855287f699991371": {
      "model_module": "@jupyter-widgets/base",
      "model_module_version": "2.0.0",
      "model_name": "LayoutModel",
      "state": {
       "width": "95px"
      }
     },
     "d4f9f191e4d8418c8e30a3421a322de6": {
      "model_module": "@jupyter-widgets/controls",
      "model_module_version": "2.0.0",
      "model_name": "ButtonModel",
      "state": {
       "button_style": "primary",
       "description": "Clear",
       "layout": "IPY_MODEL_be7bc18143ed4067b0519b2c5eed9571",
       "style": "IPY_MODEL_cbe97e27d5a747499645ffe4e90c19cd",
       "tooltip": null
      }
     },
     "ea852244ca8a467fbfad2571aaa1a37d": {
      "model_module": "@jupyter-widgets/controls",
      "model_module_version": "2.0.0",
      "model_name": "GridBoxModel",
      "state": {
       "children": [
        "IPY_MODEL_d4f9f191e4d8418c8e30a3421a322de6"
       ],
       "layout": "IPY_MODEL_020e00ccf12f4d7d89cf1cb0b8541042"
      }
     },
     "f08e11ce39af4e219c2c43fb9a1a0247": {
      "model_module": "@jupyter-widgets/controls",
      "model_module_version": "2.0.0",
      "model_name": "HTMLStyleModel",
      "state": {
       "description_width": "",
       "font_size": null,
       "text_color": null
      }
     }
    },
    "version_major": 2,
    "version_minor": 0
   }
  }
 },
 "nbformat": 4,
 "nbformat_minor": 4
}
